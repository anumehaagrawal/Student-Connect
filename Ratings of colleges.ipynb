{
 "cells": [
  {
   "cell_type": "code",
   "execution_count": 1,
   "metadata": {},
   "outputs": [],
   "source": [
    "import requests\n",
    "from pprint import pprint\n",
    "import numpy as np\n",
    "from nltk.corpus import wordnet\n",
    "from itertools import product"
   ]
  },
  {
   "cell_type": "code",
   "execution_count": 2,
   "metadata": {},
   "outputs": [],
   "source": [
    "subscription_key=\"a0cdcb30c0894f918d92c0de8f34d85e\"\n",
    "assert subscription_key"
   ]
  },
  {
   "cell_type": "code",
   "execution_count": 3,
   "metadata": {},
   "outputs": [],
   "source": [
    "text_analytics_base_url = \"https://eastus.api.cognitive.microsoft.com/text/analytics/v2.0\""
   ]
  },
  {
   "cell_type": "code",
   "execution_count": 79,
   "metadata": {},
   "outputs": [
    {
     "name": "stdout",
     "output_type": "stream",
     "text": [
      "https://eastus.api.cognitive.microsoft.com/text/analytics/v2.0/sentiment\n"
     ]
    }
   ],
   "source": [
    "sentiment_api_url = text_analytics_base_url + \"/sentiment\"\n",
    "print(sentiment_api_url)"
   ]
  },
  {
   "cell_type": "code",
   "execution_count": 92,
   "metadata": {},
   "outputs": [
    {
     "name": "stdout",
     "output_type": "stream",
     "text": [
      "{'documents': [{'id': 'nitk', 'language': 'en', 'text': ' The fees are a lot more than most colleges with not as many amenities.'}]}\n"
     ]
    }
   ],
   "source": [
    "documents={}\n",
    "documents['documents']=[]\n",
    "def add(college_name,reviews,lang):\n",
    "    arr=documents.get('documents')\n",
    "    arr.append({'id': college_name, 'language':lang,'text':reviews})\n",
    "    \n",
    "add('nitk',' The fees are a lot more than most colleges with not as many amenities.' ,'en')\n",
    "print(documents)"
   ]
  },
  {
   "cell_type": "code",
   "execution_count": 93,
   "metadata": {},
   "outputs": [
    {
     "name": "stdout",
     "output_type": "stream",
     "text": [
      "{'documents': [{'id': 'nitk', 'score': 0.5}], 'errors': []}\n"
     ]
    }
   ],
   "source": [
    "\n",
    "headers   = {\"Ocp-Apim-Subscription-Key\": subscription_key}\n",
    "response  = requests.post(sentiment_api_url, headers=headers, json=documents)\n",
    "\n",
    "sentiments = response.json()\n",
    "pprint(sentiments)"
   ]
  },
  {
   "cell_type": "markdown",
   "metadata": {},
   "source": [
    "#### Ratings has list of all ratings of a college by the counsellors and a gives overall rating"
   ]
  },
  {
   "cell_type": "code",
   "execution_count": null,
   "metadata": {},
   "outputs": [],
   "source": [
    "ratings=[]\n",
    "\n",
    "for i in sentiments['documents']:\n",
    "    score_allotted=i['score']\n",
    "    if(score_allotted<0.20):\n",
    "        ratings.append(1)\n",
    "    elif(score_allotted<0.4):\n",
    "        ratings.append(2)\n",
    "    elif(score_allotted<0.6):\n",
    "        ratings.append(3)\n",
    "    elif(score_allotted<0.8):\n",
    "        ratings.append(4)\n",
    "    else :\n",
    "        ratings.append(5)\n",
    "\n",
    "def ratings_college():    \n",
    "    return(np.sum(ratings)/len(ratings))\n",
    "a=ratings_college()\n",
    "print(a)"
   ]
  },
  {
   "cell_type": "markdown",
   "metadata": {},
   "source": [
    "Reviews , Affordability , Academic strengths ,"
   ]
  },
  {
   "cell_type": "code",
   "execution_count": 8,
   "metadata": {},
   "outputs": [
    {
     "name": "stdout",
     "output_type": "stream",
     "text": [
      "https://eastus.api.cognitive.microsoft.com/text/analytics/v2.0/keyPhrases\n"
     ]
    }
   ],
   "source": [
    "key_phrase_api_url = text_analytics_base_url + \"/keyPhrases\"\n",
    "print(key_phrase_api_url)\n"
   ]
  },
  {
   "cell_type": "markdown",
   "metadata": {},
   "source": [
    "#### student_details has list of all students and college student has list of all college"
   ]
  },
  {
   "cell_type": "code",
   "execution_count": 57,
   "metadata": {},
   "outputs": [],
   "source": [
    "student_details={}\n",
    "student=[]\n",
    "student_details['students']=student\n",
    "\n",
    "student.append({'language':'en','id' : 'Anu','text':'design', 'cost':'29'})\n",
    "college_det={}\n",
    "college=[]\n",
    "college_det['college']=college\n",
    "\n",
    "college.append({'id':'USC','language':'en','text':'animation,graphics,farming','cost':'30'})\n",
    "college.append({'id':'MIT','language':'en','text':'game,design','cost':'30'})"
   ]
  },
  {
   "cell_type": "code",
   "execution_count": 58,
   "metadata": {},
   "outputs": [
    {
     "name": "stdout",
     "output_type": "stream",
     "text": [
      "{'college': [{'cost': '30',\n",
      "              'id': 'USC',\n",
      "              'language': 'en',\n",
      "              'text': 'animation,graphics,farming'},\n",
      "             {'cost': '30',\n",
      "              'id': 'MIT',\n",
      "              'language': 'en',\n",
      "              'text': 'game,design'}]}\n"
     ]
    }
   ],
   "source": [
    "pprint(college_det)"
   ]
  },
  {
   "cell_type": "markdown",
   "metadata": {},
   "source": [
    "#### Suggestion of colleges based on students interest"
   ]
  },
  {
   "cell_type": "code",
   "execution_count": 59,
   "metadata": {},
   "outputs": [
    {
     "name": "stdout",
     "output_type": "stream",
     "text": [
      "0.75\n",
      "1.0\n",
      "Anu ['MIT']\n"
     ]
    }
   ],
   "source": [
    "coll=college_det['college']\n",
    "stud=student_details['students']\n",
    "for i in stud:\n",
    "    interest=i['text']\n",
    "    student_id=i['id']\n",
    "    interest_list=interest.split(',')\n",
    "    \n",
    "    col_list=[]\n",
    "    for i in coll:\n",
    "        col_id=i['id']\n",
    "        col_spec=i['text']\n",
    "        specialisation_list=col_spec.split(',')\n",
    "        allsyns1 = set(ss for word in interest_list for ss in wordnet.synsets(word))\n",
    "        allsyns2 = set(ss for word in specialisation_list for ss in wordnet.synsets(word))\n",
    "        best = max((wordnet.wup_similarity(s1, s2) or 0, s1, s2) for s1, s2 in \n",
    "                product(allsyns1, allsyns2))\n",
    "        measure=best[0]\n",
    "        print(measure)\n",
    "        if(measure>0.84):\n",
    "\n",
    "            col_list.append(col_id)\n",
    "    print(student_id,col_list)"
   ]
  },
  {
   "cell_type": "code",
   "execution_count": 60,
   "metadata": {},
   "outputs": [
    {
     "ename": "SyntaxError",
     "evalue": "invalid syntax (<ipython-input-60-47d19c795f15>, line 1)",
     "output_type": "error",
     "traceback": [
      "\u001b[0;36m  File \u001b[0;32m\"<ipython-input-60-47d19c795f15>\"\u001b[0;36m, line \u001b[0;32m1\u001b[0m\n\u001b[0;31m    student : - name , income , interests, language , gpa , scores, contact\u001b[0m\n\u001b[0m                     ^\u001b[0m\n\u001b[0;31mSyntaxError\u001b[0m\u001b[0;31m:\u001b[0m invalid syntax\n"
     ]
    }
   ],
   "source": [
    "student : - name , income , interests, language , gpa , scores, contact\n",
    "mentor: - name , contact , reviews, college,language\n",
    "college :- name , fees , specialisation,language\n",
    "    \n",
    "    "
   ]
  },
  {
   "cell_type": "code",
   "execution_count": null,
   "metadata": {},
   "outputs": [],
   "source": []
  },
  {
   "cell_type": "code",
   "execution_count": null,
   "metadata": {},
   "outputs": [],
   "source": []
  }
 ],
 "metadata": {
  "kernelspec": {
   "display_name": "Python 3",
   "language": "python",
   "name": "python3"
  },
  "language_info": {
   "codemirror_mode": {
    "name": "ipython",
    "version": 3
   },
   "file_extension": ".py",
   "mimetype": "text/x-python",
   "name": "python",
   "nbconvert_exporter": "python",
   "pygments_lexer": "ipython3",
   "version": "3.6.2"
  }
 },
 "nbformat": 4,
 "nbformat_minor": 2
}
